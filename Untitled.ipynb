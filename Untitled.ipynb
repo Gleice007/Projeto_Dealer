{
 "cells": [
  {
   "cell_type": "markdown",
   "id": "f0911dd6-4950-4bee-ade8-2e9870fd2585",
   "metadata": {},
   "source": [
    "# Formas de Iframe e Actions "
   ]
  },
  {
   "cell_type": "markdown",
   "id": "1cdb8969-9e56-4747-828d-be894583bb3f",
   "metadata": {},
   "source": [
    "from selenium.webdriver.common.action_chains import ActionChains\n",
    "from selenium import webdriver\n",
    "\n",
    "driver = webdriver.Chrome()\n",
    "driver.get(\"https://hmldealernet.parvi.com.br/LoginAux.aspx?Windows\")\n",
    "\n",
    "element = driver.find_element_by_id('//*[@id=\"W5|_689_|Relatórios\"]')\n",
    "actions = ActionChains(driver)\n",
    "actions.move_to_element(element).perform()"
   ]
  },
  {
   "cell_type": "markdown",
   "id": "ab6d27d6-e7e0-4ca1-b9cb-4b186853ce4c",
   "metadata": {},
   "source": [
    "### Primeiro método \n",
    "\n",
    "iframe = navegador.find_elements(By.TAG_NAME, 'iframe')\n",
    "navegador.switch_to.frame(iframe[1])\n",
    "\n",
    "campo_data = navegador.find_element(By.XPATH, '//*[@id=\"vDATAINICIO\"]').send_keys('02-08-2024')"
   ]
  },
  {
   "cell_type": "markdown",
   "id": "3625f06a-863e-40a9-9bc0-20be0c72ddff",
   "metadata": {},
   "source": [
    "## Método webdriverwait\n",
    "\n",
    "try:\r\n",
    "    # wait 10 seconds before looking for element\r\n",
    "    # ( Replace myDynamicElement elememnt with your elememnt id )\r\n",
    "    element = WebDriverWait(driver, 10).until(\r\n",
    "        EC.presence_of_element_located((By.ID, \"myDynamicElement\"))\r\n",
    "    )\r\n",
    "finally:\r\n",
    "    # else quit\r\n",
    "    driver.quit()"
   ]
  },
  {
   "cell_type": "code",
   "execution_count": null,
   "id": "7bc36484-d6b7-4259-9d8b-819a0a9f5a39",
   "metadata": {},
   "outputs": [],
   "source": []
  }
 ],
 "metadata": {
  "kernelspec": {
   "display_name": "Python 3 (ipykernel)",
   "language": "python",
   "name": "python3"
  },
  "language_info": {
   "codemirror_mode": {
    "name": "ipython",
    "version": 3
   },
   "file_extension": ".py",
   "mimetype": "text/x-python",
   "name": "python",
   "nbconvert_exporter": "python",
   "pygments_lexer": "ipython3",
   "version": "3.12.4"
  }
 },
 "nbformat": 4,
 "nbformat_minor": 5
}
