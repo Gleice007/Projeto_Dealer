{
 "cells": [
  {
   "cell_type": "code",
   "execution_count": 599,
   "id": "f3652876-22c6-4747-b89e-591567fd7c34",
   "metadata": {},
   "outputs": [],
   "source": [
    "from selenium import webdriver\n",
    "from selenium.webdriver.chrome.service import Service\n",
    "from webdriver_manager.chrome import ChromeDriverManager\n",
    "from selenium.webdriver.common.by import By\n",
    "import pandas as pd\n",
    "from selenium.webdriver.common.action_chains import ActionChains\n",
    "from time import sleep\n",
    "\n",
    "servico = Service(ChromeDriverManager().install())\n",
    "navegador = webdriver.Chrome()\n",
    "\n",
    "navegador.get(\"https://hmldealernet.parvi.com.br/LoginAux.aspx?Windows\")"
   ]
  },
  {
   "cell_type": "code",
   "execution_count": 600,
   "id": "8c041959-3e92-4156-944f-85b59e89510c",
   "metadata": {},
   "outputs": [],
   "source": [
    "campo_login = navegador.find_element(By.XPATH, '//*[@id=\"vUSUARIO_IDENTIFICADORALTERNATIVO\"]').send_keys(\"RPA_0032\")\n",
    "campo_senha = navegador.find_element(By.XPATH, '//*[@id=\"vUSUARIOSENHA_SENHA\"]').send_keys(\"Rpa@123\")"
   ]
  },
  {
   "cell_type": "code",
   "execution_count": 601,
   "id": "454ecf08-df43-4880-b3ca-4dabac4ad4d9",
   "metadata": {},
   "outputs": [],
   "source": [
    "campo_confirma = navegador.find_element(By.XPATH, '//*[@id=\"IMAGE3\"]').click()"
   ]
  },
  {
   "cell_type": "code",
   "execution_count": 602,
   "id": "99c4a4de-0d67-49ba-976a-5c679ec88999",
   "metadata": {},
   "outputs": [],
   "source": [
    "try:\n",
    "    # Fluent wait for the element to be present\n",
    "    # ( Replace myDynamicElement elememnt with your elememnt id )\n",
    "    element = WebDriverWait(navegador, 10).until(\n",
    "        EC.presence_of_element_located((By.XPATH, '//*[@id=\"ext-gen30\"]'))\n",
    "    )\n",
    "except:\n",
    "    # Quit the driver\n",
    "    print('Falha no codigo')"
   ]
  },
  {
   "cell_type": "code",
   "execution_count": 603,
   "id": "b8d233a1-51c2-4b02-8fd6-bc1511c3688c",
   "metadata": {},
   "outputs": [],
   "source": [
    "sleep(2)\n",
    "campo_veiculo = navegador.find_element(By.XPATH, '//*[@id=\"ext-gen30\"]').click()"
   ]
  },
  {
   "cell_type": "code",
   "execution_count": 604,
   "id": "61ba4362-7ad9-40f8-a2b3-7621529e6a58",
   "metadata": {},
   "outputs": [],
   "source": [
    "try:\n",
    "    # Fluent wait for the element to be present\n",
    "    # ( Replace myDynamicElement elememnt with your elememnt id )\n",
    "    element = WebDriverWait(navegador, 20).until(\n",
    "        EC.presence_of_element_located((By.XPATH, '//*[@id=\"W5|_689_|Relatórios\"]'))\n",
    "    )\n",
    "except:\n",
    "    # Quit the driver\n",
    "    print('Falha no codigo')"
   ]
  },
  {
   "cell_type": "code",
   "execution_count": 605,
   "id": "39b3bdfe-f02e-4e9a-b44e-4fab1ff8713b",
   "metadata": {},
   "outputs": [],
   "source": [
    "element = navegador.find_element(By.XPATH, '//*[@id=\"W5|_689_|Relatórios\"]')\n",
    "actions = ActionChains(navegador)\n",
    "actions.move_to_element(element).perform()"
   ]
  },
  {
   "cell_type": "code",
   "execution_count": 606,
   "id": "b617a5f8-5354-4572-8ffa-d2001f101bb2",
   "metadata": {},
   "outputs": [],
   "source": [
    "try:\n",
    "    # Fluent wait for the element to be present\n",
    "    # ( Replace myDynamicElement elememnt with your elememnt id )\n",
    "    element = WebDriverWait(navegador, 20).until(\n",
    "        EC.presence_of_element_located((By.XPATH, '//*[@id=\"ext-gen186\"]'))\n",
    "    )\n",
    "except:\n",
    "    # Quit the driver\n",
    "    print('Falha no codigo')"
   ]
  },
  {
   "cell_type": "code",
   "execution_count": 607,
   "id": "7be4eba5-22ca-4a8d-acc4-c131e0b1933e",
   "metadata": {},
   "outputs": [],
   "source": [
    "element = navegador.find_element(By.XPATH, '//*[@id=\"ext-gen186\"]')\n",
    "actions = ActionChains(navegador)\n",
    "actions.click(element).perform()"
   ]
  },
  {
   "cell_type": "code",
   "execution_count": 608,
   "id": "9e19aef8-ec31-42cb-af43-0357f72d60c8",
   "metadata": {},
   "outputs": [],
   "source": [
    "try:\n",
    "    # Fluent wait for the element to be present\n",
    "    # ( Replace myDynamicElement elememnt with your elememnt id )\n",
    "    element = WebDriverWait(navegador, 20).until(\n",
    "        EC.presence_of_element_located((By.XPATH, \"*//iframe[@src='../wp_relveiculosentregues.aspx']\"))\n",
    "    )\n",
    "except:\n",
    "    # Quit the driver\n",
    "    print('Falha no codigo')"
   ]
  },
  {
   "cell_type": "code",
   "execution_count": 609,
   "id": "d25df870-faf7-451f-87da-e8f4ecbca6f8",
   "metadata": {},
   "outputs": [],
   "source": [
    "iframe = navegador.find_element(By.XPATH, \"*//iframe[@src='../wp_relveiculosentregues.aspx']\")\n",
    "navegador.switch_to.frame(iframe)\n",
    "sleep(1)\n",
    "campo_data = navegador.find_element(By.XPATH, '//*[@id=\"vDATAINICIO\"]').send_keys('02-08-2024')"
   ]
  },
  {
   "cell_type": "code",
   "execution_count": 610,
   "id": "d49d74f2-d39c-4a48-a322-36551ce15a1c",
   "metadata": {},
   "outputs": [],
   "source": [
    "campo_data1 = navegador.find_element(By.XPATH, '//*[@id=\"vDATAFIM\"]').send_keys('07-08-2024')"
   ]
  },
  {
   "cell_type": "code",
   "execution_count": 611,
   "id": "7b12dd52-6408-44e7-a51b-b913190a35d6",
   "metadata": {},
   "outputs": [],
   "source": [
    "campo_filtro = navegador.find_element(By.XPATH, '//*[@id=\"IMAGE2\"]').click()"
   ]
  },
  {
   "cell_type": "code",
   "execution_count": 612,
   "id": "732542e4-6609-4ec5-a8c8-4ab6bf285feb",
   "metadata": {},
   "outputs": [],
   "source": [
    "try:\n",
    "    # Fluent wait for the element to be present\n",
    "    # ( Replace myDynamicElement elememnt with your elememnt id )\n",
    "    element = WebDriverWait(navegador, 20).until(\n",
    "        EC.presence_of_element_located((By.ID, \"gxp0_ifrm\"))\n",
    "    )\n",
    "except:\n",
    "    # Quit the driver\n",
    "    print('Falha no codigo')"
   ]
  },
  {
   "cell_type": "code",
   "execution_count": 613,
   "id": "f6e38139-e892-4224-b348-88048da240a4",
   "metadata": {},
   "outputs": [],
   "source": [
    "iframe = navegador.find_element(By.ID, 'gxp0_ifrm')\n",
    "navegador.switch_to.frame(iframe)\n",
    "\n",
    "campo_selecao = navegador.find_element(By.XPATH, '//*[@id=\"vEMPRESA_MARCACOD\"]').send_keys('Jeep')"
   ]
  },
  {
   "cell_type": "code",
   "execution_count": 614,
   "id": "788fb074-b029-435c-a343-7d371c2e4ae3",
   "metadata": {},
   "outputs": [],
   "source": [
    "campo_botao = navegador.find_element(By.XPATH, '//*[@id=\"PROCESSAMARCAEMPRESA\"]').click()"
   ]
  },
  {
   "cell_type": "code",
   "execution_count": 615,
   "id": "d597a7ad-e43b-4d41-89fc-8f3194b7fe0a",
   "metadata": {},
   "outputs": [],
   "source": [
    "sleep(3)\n",
    "campo_confirma = navegador.find_element(By.XPATH, '//*[@id=\"IMGCONFIRMAR\"]').click()"
   ]
  },
  {
   "cell_type": "code",
   "execution_count": null,
   "id": "9fe1eda1-40b9-4970-9092-9b35c58eb244",
   "metadata": {},
   "outputs": [],
   "source": []
  },
  {
   "cell_type": "code",
   "execution_count": null,
   "id": "439e193a-aee8-4e54-86ba-2785acee067f",
   "metadata": {},
   "outputs": [],
   "source": []
  },
  {
   "cell_type": "code",
   "execution_count": null,
   "id": "653683e7-eb1c-4178-b2c4-f1d34d0bb124",
   "metadata": {},
   "outputs": [],
   "source": []
  }
 ],
 "metadata": {
  "kernelspec": {
   "display_name": "Python 3 (ipykernel)",
   "language": "python",
   "name": "python3"
  },
  "language_info": {
   "codemirror_mode": {
    "name": "ipython",
    "version": 3
   },
   "file_extension": ".py",
   "mimetype": "text/x-python",
   "name": "python",
   "nbconvert_exporter": "python",
   "pygments_lexer": "ipython3",
   "version": "3.12.4"
  }
 },
 "nbformat": 4,
 "nbformat_minor": 5
}
